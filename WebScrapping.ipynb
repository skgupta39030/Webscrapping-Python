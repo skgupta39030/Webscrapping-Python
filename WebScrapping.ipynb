{
 "cells": [
  {
   "cell_type": "code",
   "execution_count": 10,
   "id": "central-forestry",
   "metadata": {},
   "outputs": [],
   "source": [
    "# importing required library\n",
    "import requests\n",
    "from bs4 import BeautifulSoup\n",
    "import smtplib\n"
   ]
  },
  {
   "cell_type": "code",
   "execution_count": 2,
   "id": "seeing-potter",
   "metadata": {},
   "outputs": [],
   "source": [
    "# copy the url of page that you want to scrap\n",
    "URL='https://www.flipkart.com/iqoo-3-quantum-silver-128-gb/p/itm7d075bc17be11?pid=MOBFP4P2NBTJYC5J&lid=LSTMOBFP4P2NBTJYC5JXXTSRK&marketplace=FLIPKART&srno=s_1_4&otracker=AS_QueryStore_OrganicAutoSuggest_1_2_na_na_na&otracker1=AS_QueryStore_OrganicAutoSuggest_1_2_na_na_na&fm=SEARCH&iid=468570ce-00d7-46f9-be0b-77123c794246.MOBFP4P2NBTJYC5J.SEARCH&ppt=sp&ppn=sp&ssid=89okl5la4w0000001591183998591&qH=d46eda5f5a74ba22'\n",
    "headers = {\"user_agent\":'Mozilla/5.0 (Windows NT 10.0; Win64; x64) AppleWebKit/537.36 (KHTML, like Gecko) Chrome/81.0.4044.138 Safari/537.36'} # keep it same"
   ]
  },
  {
   "cell_type": "code",
   "execution_count": 8,
   "id": "matched-beads",
   "metadata": {},
   "outputs": [],
   "source": [
    "# function for scrapping title and price of the product.\n",
    "\n",
    "def check_price():\n",
    "    page = requests.get(URL, headers = headers)\n",
    "    soup = BeautifulSoup(page.content, 'html.parser')\n",
    "\n",
    "    title = soup.find('span',{\"class\":\"B_NuCI\"}) # specify the div or span tag for scrapping title from webpage.\n",
    "    price = soup.find('div',{\"class\":\"_30jeq3 _16Jk6d\"}) # specify the respective tag for scrapping price of the product.\n",
    "    \n",
    "    print(title.get_text())\n",
    "    print(\"  \")\n",
    "    print(price.get_text())\n",
    "    print(\" \")\n",
    "\n",
    "    converted_price = price.text[1:7]\n",
    "    actual_price = float(converted_price.replace(',',\"\"))\n",
    "    print(actual_price,\"\\n\")\n",
    "    \n",
    "    if(actual_price < 28000.0):\n",
    "        send_mail()\n",
    "    else:\n",
    "        print(\"Opps!!! looks like price still there where it was.\")"
   ]
  },
  {
   "cell_type": "code",
   "execution_count": 9,
   "id": "personal-prior",
   "metadata": {},
   "outputs": [
    {
     "name": "stdout",
     "output_type": "stream",
     "text": [
      "IQOO 3 (Quantum Silver, 128 GB)  (8 GB RAM)\n",
      "  \n",
      "₹34,990\n",
      " \n",
      "34990.0 \n",
      "\n",
      "Opps!!! looks like price still there where it was.\n"
     ]
    }
   ],
   "source": [
    "# function for sending mail.\n",
    "\n",
    "def send_mail():\n",
    "    server = smtplib.SMTP('smtp.gmail.com', 587) \n",
    "    server.ehlo()\n",
    "    server.starttls()\n",
    "    server.ehlo()\n",
    "    server.login('Example@gmail.com','.....') # first argument will be your email through which you want to login and second will be you gmail app password.\n",
    "    \n",
    "    \n",
    "    subject = 'hey! price fell down.'\n",
    "    body = \"Check this out:- https://www.flipkart.com/iqoo-3-quantum-silver-128-gb/p/itm7d075bc17be11?pid=MOBFP4P2NBTJYC5J&lid=LSTMOBFP4P2NBTJYC5JXXTSRK&marketplace=FLIPKART&srno=s_1_4&otracker=AS_QueryStore_OrganicAutoSuggest_1_2_na_na_na&otracker1=AS_QueryStore_OrganicAutoSuggest_1_2_na_na_na&fm=SEARCH&iid=468570ce-00d7-46f9-be0b-77123c794246.MOBFP4P2NBTJYC5J.SEARCH&ppt=sp&ppn=sp&ssid=89okl5la4w0000001591183998591&qH=d46eda5f5a74ba22\"\n",
    "    \n",
    "    msg = f\"subject: {subject}\\n\\n{body}\"\n",
    "    \n",
    "    server.sendmail(\n",
    "            'Example@gmail.com',# sender's mail\n",
    "            'Example1@gmail.com',# reciever's mail\n",
    "            msg\n",
    "    )\n",
    "    print('HEY EMAIL HAS BEEN SENT!')\n",
    "    server.quit()\n",
    "    \n",
    "\"\"\"\n",
    "calling the check_price function......\n",
    "\"\"\"\n",
    "check_price()"
   ]
  },
  {
   "cell_type": "code",
   "execution_count": null,
   "id": "protecting-sight",
   "metadata": {},
   "outputs": [],
   "source": []
  }
 ],
 "metadata": {
  "kernelspec": {
   "display_name": "Python 3",
   "language": "python",
   "name": "python3"
  },
  "language_info": {
   "codemirror_mode": {
    "name": "ipython",
    "version": 3
   },
   "file_extension": ".py",
   "mimetype": "text/x-python",
   "name": "python",
   "nbconvert_exporter": "python",
   "pygments_lexer": "ipython3",
   "version": "3.9.1"
  }
 },
 "nbformat": 4,
 "nbformat_minor": 5
}
